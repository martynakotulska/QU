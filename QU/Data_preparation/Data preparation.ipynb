{
 "cells": [
  {
   "cell_type": "markdown",
   "metadata": {},
   "source": [
    "## Introdiction\n",
    "<img src=https://upload.wikimedia.org/wikipedia/en/thumb/5/5b/Lending_Club_Corporate_Logo.svg/1920px-Lending_Club_Corporate_Logo.svg.png width=\"500\">\n",
    "\n",
    "**LendingClub** is a peer-to-peer lending company, headquartered in San Francisco, California. It was the first peer-to-peer lender to register its offerings as securities with the Securities and Exchange Commission (SEC), and to offer loan trading on a secondary market. At its height, LendingClub was the world's largest peer-to-peer lending platform. The company claims that \\\\$15,98 billion in loans had been originated through its platform up to December 31, 2015.\n",
    "LendingClub enabled borrowers to create unsecured personal loans between \\\\$1,000 and \\\\$40,000. The standard loan period was three years. Investors were able to search and browse the loan listings on LendingClub website and select loans that they wanted to invest in based on the information supplied about the borrower, amount of loan, loan grade, and loan purpose. Investors made money from the interest on these loans. LendingClub made money by charging borrowers an origination fee and investors a service fee ( [Wikipedia](https://en.wikipedia.org/wiki/LendingClub))."
   ]
  },
  {
   "cell_type": "markdown",
   "metadata": {},
   "source": [
    "## Objectives\n",
    "Customers who don't pay back their loan amount are a source of loss for the company. The aim of this task is to build a model assessing the chance of a loan default using binary classification methods.\n",
    "The model will predict if a particular applicant will or will not be able to pay back the loan amount."
   ]
  },
  {
   "cell_type": "markdown",
   "metadata": {},
   "source": [
    "### Import Libraries\n",
    "Import basic DS libraries to explore data."
   ]
  },
  {
   "cell_type": "code",
   "execution_count": 1,
   "metadata": {},
   "outputs": [],
   "source": [
    "# data manipulation and analysis libraries\n",
    "import numpy as np \n",
    "import pandas as pd \n",
    "\n",
    "# graphics libraries\n",
    "import seaborn as sns \n",
    "import matplotlib.pyplot as plt"
   ]
  },
  {
   "cell_type": "markdown",
   "metadata": {},
   "source": [
    "## Load data\n",
    "I will be working on data, where the loan was accepted if someone applied for it."
   ]
  },
  {
   "cell_type": "code",
   "execution_count": 2,
   "metadata": {},
   "outputs": [],
   "source": [
    "raw_df = pd.read_csv(\n",
    "    \"C:\\\\Users\\\\Kotula\\\\Desktop\\\\QU\\\\Raw_data\\\\accepted_2007_to_2018Q4.csv\",\n",
    "    low_memory=False\n",
    ")"
   ]
  },
  {
   "cell_type": "markdown",
   "metadata": {},
   "source": [
    "Let's take a look of the data shape."
   ]
  },
  {
   "cell_type": "code",
   "execution_count": 3,
   "metadata": {},
   "outputs": [
    {
     "data": {
      "text/plain": [
       "(2260701, 151)"
      ]
     },
     "execution_count": 3,
     "metadata": {},
     "output_type": "execute_result"
    }
   ],
   "source": [
    "raw_df.shape"
   ]
  },
  {
   "cell_type": "markdown",
   "metadata": {},
   "source": [
    "The data have 2260701 loans to look at and 151 potential variables. The analysis of 151 variables will take a long time. Due to the limited time of the task, use information from other projects involving the analysis of selected variables."
   ]
  },
  {
   "cell_type": "markdown",
   "metadata": {},
   "source": [
    "## Select specific variables\n",
    "Based on [notebook](https://www.kaggle.com/faressayah/lending-club-loan-defaulters-prediction/notebook) FARES SAYAH, I selescted 27 variebales to further analysis and read basic information about them (table in Data description)."
   ]
  },
  {
   "cell_type": "code",
   "execution_count": 4,
   "metadata": {},
   "outputs": [
    {
     "data": {
      "text/plain": [
       "(2260701, 27)"
      ]
     },
     "execution_count": 4,
     "metadata": {},
     "output_type": "execute_result"
    }
   ],
   "source": [
    "df = raw_df[['loan_amnt', 'term', 'int_rate', 'installment', 'grade', 'sub_grade',\n",
    "                  'emp_title', 'emp_length', 'home_ownership', 'annual_inc','verification_status',\n",
    "                  'issue_d', 'loan_status', 'purpose', 'title',\"addr_state\",'dti','earliest_cr_line',\n",
    "                  'open_acc', 'pub_rec', 'revol_bal','revol_util','total_acc', 'initial_list_status',\n",
    "                  'application_type','mort_acc', 'pub_rec_bankruptcies']]\n",
    "df.shape"
   ]
  },
  {
   "cell_type": "markdown",
   "metadata": {},
   "source": [
    "## Data description\n",
    "\n",
    "----\n",
    "-----\n",
    "The information about 27 variables in data set:\n",
    "\n",
    "<table border=\"1\" class=\"dataframe\">\n",
    "  <thead>\n",
    "    <tr style=\"text-align: right;\">\n",
    "      <th></th>\n",
    "      <th>LoanStatNew</th>\n",
    "      <th>Description</th>\n",
    "    </tr>\n",
    "  </thead>\n",
    "  <tbody>\n",
    "    <tr>\n",
    "      <th>0</th>\n",
    "      <td>loan_amnt</td>\n",
    "      <td>The listed amount of the loan applied for by the borrower. If at some point in time, the credit department reduces the loan amount, then it will be reflected in this value.</td>\n",
    "    </tr>\n",
    "    <tr>\n",
    "      <th>1</th>\n",
    "      <td>term</td>\n",
    "      <td>The number of payments on the loan. Values are in months and can be either 36 or 60.</td>\n",
    "    </tr>\n",
    "    <tr>\n",
    "      <th>2</th>\n",
    "      <td>int_rate</td>\n",
    "      <td>Interest Rate on the loan</td>\n",
    "    </tr>\n",
    "    <tr>\n",
    "      <th>3</th>\n",
    "      <td>installment</td>\n",
    "      <td>The monthly payment owed by the borrower if the loan originates.</td>\n",
    "    </tr>\n",
    "    <tr>\n",
    "      <th>4</th>\n",
    "      <td>grade</td>\n",
    "      <td>LC assigned loan grade</td>\n",
    "    </tr>\n",
    "    <tr>\n",
    "      <th>5</th>\n",
    "      <td>sub_grade</td>\n",
    "      <td>LC assigned loan subgrade</td>\n",
    "    </tr>\n",
    "    <tr>\n",
    "      <th>6</th>\n",
    "      <td>emp_title</td>\n",
    "      <td>The job title supplied by the Borrower when applying for the loan.*</td>\n",
    "    </tr>\n",
    "    <tr>\n",
    "      <th>7</th>\n",
    "      <td>emp_length</td>\n",
    "      <td>Employment length in years. Possible values are between 0 and 10 where 0 means less than one year and 10 means ten or more years.</td>\n",
    "    </tr>\n",
    "    <tr>\n",
    "      <th>8</th>\n",
    "      <td>home_ownership</td>\n",
    "      <td>The home ownership status provided by the borrower during registration or obtained from the credit report. Our values are: RENT, OWN, MORTGAGE, OTHER</td>\n",
    "    </tr>\n",
    "    <tr>\n",
    "      <th>9</th>\n",
    "      <td>annual_inc</td>\n",
    "      <td>The self-reported annual income provided by the borrower during registration.</td>\n",
    "    </tr>\n",
    "    <tr>\n",
    "      <th>10</th>\n",
    "      <td>verification_status</td>\n",
    "      <td>Indicates if income was verified by LC, not verified, or if the income source was verified</td>\n",
    "    </tr>\n",
    "    <tr>\n",
    "      <th>11</th>\n",
    "      <td>issue_d</td>\n",
    "      <td>The month which the loan was funded</td>\n",
    "    </tr>\n",
    "    <tr>\n",
    "      <th>12</th>\n",
    "      <td>loan_status</td>\n",
    "      <td>Current status of the loan</td>\n",
    "    </tr>\n",
    "    <tr>\n",
    "      <th>13</th>\n",
    "      <td>purpose</td>\n",
    "      <td>A category provided by the borrower for the loan request.</td>\n",
    "    </tr>\n",
    "    <tr>\n",
    "      <th>14</th>\n",
    "      <td>title</td>\n",
    "      <td>The loan title provided by the borrower</td>\n",
    "    </tr>\n",
    "    <tr>\n",
    "      <th>15</th>\n",
    "      <td>zip_code</td>\n",
    "      <td>The first 3 numbers of the zip code provided by the borrower in the loan application.</td>\n",
    "    </tr>\n",
    "    <tr>\n",
    "      <th>16</th>\n",
    "      <td>addr_state</td>\n",
    "      <td>The state provided by the borrower in the loan application</td>\n",
    "    </tr>\n",
    "    <tr>\n",
    "      <th>17</th>\n",
    "      <td>dti</td>\n",
    "      <td>A ratio calculated using the borrower’s total monthly debt payments on the total debt obligations, excluding mortgage and the requested LC loan, divided by the borrower’s self-reported monthly income.</td>\n",
    "    </tr>\n",
    "    <tr>\n",
    "      <th>18</th>\n",
    "      <td>earliest_cr_line</td>\n",
    "      <td>The month the borrower's earliest reported credit line was opened</td>\n",
    "    </tr>\n",
    "    <tr>\n",
    "      <th>19</th>\n",
    "      <td>open_acc</td>\n",
    "      <td>The number of open credit lines in the borrower's credit file.</td>\n",
    "    </tr>\n",
    "    <tr>\n",
    "      <th>20</th>\n",
    "      <td>pub_rec</td>\n",
    "      <td>Number of derogatory public records</td>\n",
    "    </tr>\n",
    "    <tr>\n",
    "      <th>21</th>\n",
    "      <td>revol_bal</td>\n",
    "      <td>Total credit revolving balance</td>\n",
    "    </tr>\n",
    "    <tr>\n",
    "      <th>22</th>\n",
    "      <td>revol_util</td>\n",
    "      <td>Revolving line utilization rate, or the amount of credit the borrower is using relative to all available revolving credit.</td>\n",
    "    </tr>\n",
    "    <tr>\n",
    "      <th>23</th>\n",
    "      <td>total_acc</td>\n",
    "      <td>The total number of credit lines currently in the borrower's credit file</td>\n",
    "    </tr>\n",
    "    <tr>\n",
    "      <th>24</th>\n",
    "      <td>initial_list_status</td>\n",
    "      <td>The initial listing status of the loan. Possible values are – W, F</td>\n",
    "    </tr>\n",
    "    <tr>\n",
    "      <th>25</th>\n",
    "      <td>application_type</td>\n",
    "      <td>Indicates whether the loan is an individual application or a joint application with two co-borrowers</td>\n",
    "    </tr>\n",
    "    <tr>\n",
    "      <th>26</th>\n",
    "      <td>mort_acc</td>\n",
    "      <td>Number of mortgage accounts.</td>\n",
    "    </tr>\n",
    "    <tr>\n",
    "      <th>27</th>\n",
    "      <td>pub_rec_bankruptcies</td>\n",
    "      <td>Number of public record bankruptcies</td>\n",
    "    </tr>\n",
    "  </tbody>\n",
    "</table>\n",
    "\n",
    "---\n",
    "----"
   ]
  },
  {
   "cell_type": "markdown",
   "metadata": {},
   "source": [
    "Let a quit look at a few first rows  and see a structure of data."
   ]
  },
  {
   "cell_type": "code",
   "execution_count": 5,
   "metadata": {},
   "outputs": [
    {
     "data": {
      "text/html": [
       "<div>\n",
       "<style scoped>\n",
       "    .dataframe tbody tr th:only-of-type {\n",
       "        vertical-align: middle;\n",
       "    }\n",
       "\n",
       "    .dataframe tbody tr th {\n",
       "        vertical-align: top;\n",
       "    }\n",
       "\n",
       "    .dataframe thead th {\n",
       "        text-align: right;\n",
       "    }\n",
       "</style>\n",
       "<table border=\"1\" class=\"dataframe\">\n",
       "  <thead>\n",
       "    <tr style=\"text-align: right;\">\n",
       "      <th></th>\n",
       "      <th>loan_amnt</th>\n",
       "      <th>term</th>\n",
       "      <th>int_rate</th>\n",
       "      <th>installment</th>\n",
       "      <th>grade</th>\n",
       "      <th>sub_grade</th>\n",
       "      <th>emp_title</th>\n",
       "      <th>emp_length</th>\n",
       "      <th>home_ownership</th>\n",
       "      <th>annual_inc</th>\n",
       "      <th>...</th>\n",
       "      <th>earliest_cr_line</th>\n",
       "      <th>open_acc</th>\n",
       "      <th>pub_rec</th>\n",
       "      <th>revol_bal</th>\n",
       "      <th>revol_util</th>\n",
       "      <th>total_acc</th>\n",
       "      <th>initial_list_status</th>\n",
       "      <th>application_type</th>\n",
       "      <th>mort_acc</th>\n",
       "      <th>pub_rec_bankruptcies</th>\n",
       "    </tr>\n",
       "  </thead>\n",
       "  <tbody>\n",
       "    <tr>\n",
       "      <th>0</th>\n",
       "      <td>3600.0</td>\n",
       "      <td>36 months</td>\n",
       "      <td>13.99</td>\n",
       "      <td>123.03</td>\n",
       "      <td>C</td>\n",
       "      <td>C4</td>\n",
       "      <td>leadman</td>\n",
       "      <td>10+ years</td>\n",
       "      <td>MORTGAGE</td>\n",
       "      <td>55000.0</td>\n",
       "      <td>...</td>\n",
       "      <td>Aug-2003</td>\n",
       "      <td>7.0</td>\n",
       "      <td>0.0</td>\n",
       "      <td>2765.0</td>\n",
       "      <td>29.7</td>\n",
       "      <td>13.0</td>\n",
       "      <td>w</td>\n",
       "      <td>Individual</td>\n",
       "      <td>1.0</td>\n",
       "      <td>0.0</td>\n",
       "    </tr>\n",
       "    <tr>\n",
       "      <th>1</th>\n",
       "      <td>24700.0</td>\n",
       "      <td>36 months</td>\n",
       "      <td>11.99</td>\n",
       "      <td>820.28</td>\n",
       "      <td>C</td>\n",
       "      <td>C1</td>\n",
       "      <td>Engineer</td>\n",
       "      <td>10+ years</td>\n",
       "      <td>MORTGAGE</td>\n",
       "      <td>65000.0</td>\n",
       "      <td>...</td>\n",
       "      <td>Dec-1999</td>\n",
       "      <td>22.0</td>\n",
       "      <td>0.0</td>\n",
       "      <td>21470.0</td>\n",
       "      <td>19.2</td>\n",
       "      <td>38.0</td>\n",
       "      <td>w</td>\n",
       "      <td>Individual</td>\n",
       "      <td>4.0</td>\n",
       "      <td>0.0</td>\n",
       "    </tr>\n",
       "    <tr>\n",
       "      <th>2</th>\n",
       "      <td>20000.0</td>\n",
       "      <td>60 months</td>\n",
       "      <td>10.78</td>\n",
       "      <td>432.66</td>\n",
       "      <td>B</td>\n",
       "      <td>B4</td>\n",
       "      <td>truck driver</td>\n",
       "      <td>10+ years</td>\n",
       "      <td>MORTGAGE</td>\n",
       "      <td>63000.0</td>\n",
       "      <td>...</td>\n",
       "      <td>Aug-2000</td>\n",
       "      <td>6.0</td>\n",
       "      <td>0.0</td>\n",
       "      <td>7869.0</td>\n",
       "      <td>56.2</td>\n",
       "      <td>18.0</td>\n",
       "      <td>w</td>\n",
       "      <td>Joint App</td>\n",
       "      <td>5.0</td>\n",
       "      <td>0.0</td>\n",
       "    </tr>\n",
       "    <tr>\n",
       "      <th>3</th>\n",
       "      <td>35000.0</td>\n",
       "      <td>60 months</td>\n",
       "      <td>14.85</td>\n",
       "      <td>829.90</td>\n",
       "      <td>C</td>\n",
       "      <td>C5</td>\n",
       "      <td>Information Systems Officer</td>\n",
       "      <td>10+ years</td>\n",
       "      <td>MORTGAGE</td>\n",
       "      <td>110000.0</td>\n",
       "      <td>...</td>\n",
       "      <td>Sep-2008</td>\n",
       "      <td>13.0</td>\n",
       "      <td>0.0</td>\n",
       "      <td>7802.0</td>\n",
       "      <td>11.6</td>\n",
       "      <td>17.0</td>\n",
       "      <td>w</td>\n",
       "      <td>Individual</td>\n",
       "      <td>1.0</td>\n",
       "      <td>0.0</td>\n",
       "    </tr>\n",
       "    <tr>\n",
       "      <th>4</th>\n",
       "      <td>10400.0</td>\n",
       "      <td>60 months</td>\n",
       "      <td>22.45</td>\n",
       "      <td>289.91</td>\n",
       "      <td>F</td>\n",
       "      <td>F1</td>\n",
       "      <td>Contract Specialist</td>\n",
       "      <td>3 years</td>\n",
       "      <td>MORTGAGE</td>\n",
       "      <td>104433.0</td>\n",
       "      <td>...</td>\n",
       "      <td>Jun-1998</td>\n",
       "      <td>12.0</td>\n",
       "      <td>0.0</td>\n",
       "      <td>21929.0</td>\n",
       "      <td>64.5</td>\n",
       "      <td>35.0</td>\n",
       "      <td>w</td>\n",
       "      <td>Individual</td>\n",
       "      <td>6.0</td>\n",
       "      <td>0.0</td>\n",
       "    </tr>\n",
       "  </tbody>\n",
       "</table>\n",
       "<p>5 rows × 27 columns</p>\n",
       "</div>"
      ],
      "text/plain": [
       "   loan_amnt        term  int_rate  installment grade sub_grade  \\\n",
       "0     3600.0   36 months     13.99       123.03     C        C4   \n",
       "1    24700.0   36 months     11.99       820.28     C        C1   \n",
       "2    20000.0   60 months     10.78       432.66     B        B4   \n",
       "3    35000.0   60 months     14.85       829.90     C        C5   \n",
       "4    10400.0   60 months     22.45       289.91     F        F1   \n",
       "\n",
       "                     emp_title emp_length home_ownership  annual_inc  ...  \\\n",
       "0                      leadman  10+ years       MORTGAGE     55000.0  ...   \n",
       "1                     Engineer  10+ years       MORTGAGE     65000.0  ...   \n",
       "2                 truck driver  10+ years       MORTGAGE     63000.0  ...   \n",
       "3  Information Systems Officer  10+ years       MORTGAGE    110000.0  ...   \n",
       "4          Contract Specialist    3 years       MORTGAGE    104433.0  ...   \n",
       "\n",
       "  earliest_cr_line open_acc pub_rec revol_bal revol_util total_acc  \\\n",
       "0         Aug-2003      7.0     0.0    2765.0       29.7      13.0   \n",
       "1         Dec-1999     22.0     0.0   21470.0       19.2      38.0   \n",
       "2         Aug-2000      6.0     0.0    7869.0       56.2      18.0   \n",
       "3         Sep-2008     13.0     0.0    7802.0       11.6      17.0   \n",
       "4         Jun-1998     12.0     0.0   21929.0       64.5      35.0   \n",
       "\n",
       "   initial_list_status application_type  mort_acc  pub_rec_bankruptcies  \n",
       "0                    w       Individual       1.0                   0.0  \n",
       "1                    w       Individual       4.0                   0.0  \n",
       "2                    w        Joint App       5.0                   0.0  \n",
       "3                    w       Individual       1.0                   0.0  \n",
       "4                    w       Individual       6.0                   0.0  \n",
       "\n",
       "[5 rows x 27 columns]"
      ]
     },
     "execution_count": 5,
     "metadata": {},
     "output_type": "execute_result"
    }
   ],
   "source": [
    "df.head()"
   ]
  },
  {
   "cell_type": "markdown",
   "metadata": {},
   "source": [
    "Look at data types."
   ]
  },
  {
   "cell_type": "code",
   "execution_count": 6,
   "metadata": {},
   "outputs": [
    {
     "name": "stdout",
     "output_type": "stream",
     "text": [
      "<class 'pandas.core.frame.DataFrame'>\n",
      "RangeIndex: 2260701 entries, 0 to 2260700\n",
      "Data columns (total 27 columns):\n",
      " #   Column                Dtype  \n",
      "---  ------                -----  \n",
      " 0   loan_amnt             float64\n",
      " 1   term                  object \n",
      " 2   int_rate              float64\n",
      " 3   installment           float64\n",
      " 4   grade                 object \n",
      " 5   sub_grade             object \n",
      " 6   emp_title             object \n",
      " 7   emp_length            object \n",
      " 8   home_ownership        object \n",
      " 9   annual_inc            float64\n",
      " 10  verification_status   object \n",
      " 11  issue_d               object \n",
      " 12  loan_status           object \n",
      " 13  purpose               object \n",
      " 14  title                 object \n",
      " 15  addr_state            object \n",
      " 16  dti                   float64\n",
      " 17  earliest_cr_line      object \n",
      " 18  open_acc              float64\n",
      " 19  pub_rec               float64\n",
      " 20  revol_bal             float64\n",
      " 21  revol_util            float64\n",
      " 22  total_acc             float64\n",
      " 23  initial_list_status   object \n",
      " 24  application_type      object \n",
      " 25  mort_acc              float64\n",
      " 26  pub_rec_bankruptcies  float64\n",
      "dtypes: float64(12), object(15)\n",
      "memory usage: 465.7+ MB\n"
     ]
    }
   ],
   "source": [
    "df.info()"
   ]
  },
  {
   "cell_type": "markdown",
   "metadata": {},
   "source": [
    "## Target variable 'loan status'\n",
    "Describe  possible scenarios in 'loan ststus' and count them."
   ]
  },
  {
   "cell_type": "code",
   "execution_count": 7,
   "metadata": {},
   "outputs": [
    {
     "data": {
      "text/plain": [
       "Fully Paid                                             1076751\n",
       "Current                                                 878317\n",
       "Charged Off                                             268559\n",
       "Late (31-120 days)                                       21467\n",
       "In Grace Period                                           8436\n",
       "Late (16-30 days)                                         4349\n",
       "Does not meet the credit policy. Status:Fully Paid        1988\n",
       "Does not meet the credit policy. Status:Charged Off        761\n",
       "Default                                                     40\n",
       "NaN                                                         33\n",
       "Name: loan_status, dtype: int64"
      ]
     },
     "execution_count": 7,
     "metadata": {},
     "output_type": "execute_result"
    }
   ],
   "source": [
    "df['loan_status'].value_counts(dropna = False)"
   ]
  },
  {
   "cell_type": "markdown",
   "metadata": {},
   "source": [
    "If the data where company approves the loan, we can see a few possible loan statuses:\n",
    "* **Fully paid** - Applicant has fully paid the loan (the principal and the interest rate)\n",
    "* **Current** - Applicant is in the process of paying the instalments, i.e. the tenure of the loan is not yet completed. These candidates are not labelled as 'defaulted'.\n",
    "* **Charged-off and others** - Applicant has not paid the instalments in due time for a long period of time, i.e. he/she has defaulted on the loan\n",
    "\n",
    "Also we can see some NaN values in the target variable.\n",
    "\n",
    "### Target Preprocessing\n",
    "For further analysis I will drop observations where loan-status is 'current', because these candidates are not labelled as 'defaulted'. Also I will drop NaN obserwations without imputation. Then I will recoding the value of a variable loan status 'fully paid' on 0, and the rest of the observations as 1."
   ]
  },
  {
   "cell_type": "code",
   "execution_count": 8,
   "metadata": {},
   "outputs": [
    {
     "data": {
      "text/plain": [
       "Fully Paid                                             1076751\n",
       "Charged Off                                             268559\n",
       "Late (31-120 days)                                       21467\n",
       "In Grace Period                                           8436\n",
       "Late (16-30 days)                                         4349\n",
       "Does not meet the credit policy. Status:Fully Paid        1988\n",
       "Does not meet the credit policy. Status:Charged Off        761\n",
       "Default                                                     40\n",
       "Name: loan_status, dtype: int64"
      ]
     },
     "execution_count": 8,
     "metadata": {},
     "output_type": "execute_result"
    }
   ],
   "source": [
    "# drop NaN values\n",
    "df = df[df['loan_status'].notna()]\n",
    "\n",
    "# drop observations with loan_status = 'Current'\n",
    "df = df[df['loan_status'].str.contains('Current')==False]\n",
    "\n",
    "# check the results\n",
    "df['loan_status'].value_counts(dropna = False)"
   ]
  },
  {
   "cell_type": "code",
   "execution_count": 9,
   "metadata": {},
   "outputs": [],
   "source": [
    "# Recoding  'fully paid' -> 0 , other -> 1\n",
    "df['loan_status'] = df['loan_status'].apply(lambda x: 0 if x=='Fully Paid' else 1)"
   ]
  },
  {
   "cell_type": "code",
   "execution_count": 10,
   "metadata": {},
   "outputs": [
    {
     "data": {
      "text/plain": [
       "0    1076751\n",
       "1     305600\n",
       "Name: loan_status, dtype: int64"
      ]
     },
     "execution_count": 10,
     "metadata": {},
     "output_type": "execute_result"
    }
   ],
   "source": [
    "# check the result\n",
    "df['loan_status'].value_counts(dropna = False)"
   ]
  },
  {
   "cell_type": "markdown",
   "metadata": {},
   "source": [
    "Also, we can visualize target data."
   ]
  },
  {
   "cell_type": "code",
   "execution_count": 11,
   "metadata": {},
   "outputs": [
    {
     "data": {
      "text/plain": [
       "<AxesSubplot:xlabel='loan_status', ylabel='count'>"
      ]
     },
     "execution_count": 11,
     "metadata": {},
     "output_type": "execute_result"
    },
    {
     "data": {
      "image/png": "[encoded data removed]",
      "text/plain": [
       "<Figure size 432x288 with 1 Axes>"
      ]
     },
     "metadata": {
      "needs_background": "light"
     },
     "output_type": "display_data"
    }
   ],
   "source": [
    "sns.countplot(x=df['loan_status'], data=df)\n",
    "# 0 - fully paind\n",
    "# 1 - charged off and others"
   ]
  },
  {
   "cell_type": "markdown",
   "metadata": {},
   "source": [
    "Now, 'loan_status' has binary values. Based on the result and plot can see that this data is imbalanced. Metric used in prediction -accuracy will not work well in this situation."
   ]
  },
  {
   "cell_type": "code",
   "execution_count": 12,
   "metadata": {},
   "outputs": [
    {
     "data": {
      "text/plain": [
       "1382351"
      ]
     },
     "execution_count": 12,
     "metadata": {},
     "output_type": "execute_result"
    }
   ],
   "source": [
    "# a number of observations after dropping NaN and 'current' status.\n",
    "len(df)"
   ]
  },
  {
   "cell_type": "markdown",
   "metadata": {},
   "source": [
    "##  Exploratory more data\n",
    "\n",
    "Describe missing values in data."
   ]
  },
  {
   "cell_type": "code",
   "execution_count": 13,
   "metadata": {},
   "outputs": [
    {
     "data": {
      "image/png": "[encoded data removed]",
      "text/plain": [
       "<Figure size 1296x288 with 1 Axes>"
      ]
     },
     "metadata": {
      "needs_background": "light"
     },
     "output_type": "display_data"
    }
   ],
   "source": [
    "missing = df.isnull().sum().sort_values(ascending=False)* 100 / len(df)\n",
    "# create visualization\n",
    "plt.figure(figsize=(18,4))\n",
    "sns.barplot(y=missing, x=missing.index)\n",
    "plt.xticks(rotation=90);"
   ]
  },
  {
   "cell_type": "markdown",
   "metadata": {},
   "source": [
    "Let's see percentage of missing values in dataset bigger than 0."
   ]
  },
  {
   "cell_type": "code",
   "execution_count": 14,
   "metadata": {},
   "outputs": [
    {
     "data": {
      "text/plain": [
       "emp_title               6.448796\n",
       "emp_length              5.891196\n",
       "mort_acc                3.619197\n",
       "title                   1.238036\n",
       "pub_rec_bankruptcies    0.098745\n",
       "revol_util              0.067638\n",
       "dti                     0.029804\n",
       "open_acc                0.002098\n",
       "earliest_cr_line        0.002098\n",
       "pub_rec                 0.002098\n",
       "total_acc               0.002098\n",
       "annual_inc              0.000289\n",
       "dtype: float64"
      ]
     },
     "execution_count": 14,
     "metadata": {},
     "output_type": "execute_result"
    }
   ],
   "source": [
    "missing[missing>0]"
   ]
  },
  {
   "cell_type": "code",
   "execution_count": 15,
   "metadata": {},
   "outputs": [
    {
     "data": {
      "text/plain": [
       "1230261"
      ]
     },
     "execution_count": 15,
     "metadata": {},
     "output_type": "execute_result"
    }
   ],
   "source": [
    "# drop missing values\n",
    "df = df.dropna()\n",
    "len(df)"
   ]
  },
  {
   "cell_type": "code",
   "execution_count": 16,
   "metadata": {},
   "outputs": [
    {
     "data": {
      "text/plain": [
       "object     14\n",
       "float64    12\n",
       "int64       1\n",
       "dtype: int64"
      ]
     },
     "execution_count": 16,
     "metadata": {},
     "output_type": "execute_result"
    }
   ],
   "source": [
    "# look at number categorical and numeric variables\n",
    "df.dtypes.value_counts()"
   ]
  },
  {
   "cell_type": "code",
   "execution_count": 17,
   "metadata": {},
   "outputs": [
    {
     "data": {
      "text/html": [
       "<div>\n",
       "<style scoped>\n",
       "    .dataframe tbody tr th:only-of-type {\n",
       "        vertical-align: middle;\n",
       "    }\n",
       "\n",
       "    .dataframe tbody tr th {\n",
       "        vertical-align: top;\n",
       "    }\n",
       "\n",
       "    .dataframe thead th {\n",
       "        text-align: right;\n",
       "    }\n",
       "</style>\n",
       "<table border=\"1\" class=\"dataframe\">\n",
       "  <thead>\n",
       "    <tr style=\"text-align: right;\">\n",
       "      <th></th>\n",
       "      <th>count</th>\n",
       "      <th>unique</th>\n",
       "      <th>top</th>\n",
       "      <th>freq</th>\n",
       "    </tr>\n",
       "  </thead>\n",
       "  <tbody>\n",
       "    <tr>\n",
       "      <th>term</th>\n",
       "      <td>1230261</td>\n",
       "      <td>2</td>\n",
       "      <td>36 months</td>\n",
       "      <td>921724</td>\n",
       "    </tr>\n",
       "    <tr>\n",
       "      <th>grade</th>\n",
       "      <td>1230261</td>\n",
       "      <td>7</td>\n",
       "      <td>B</td>\n",
       "      <td>356320</td>\n",
       "    </tr>\n",
       "    <tr>\n",
       "      <th>sub_grade</th>\n",
       "      <td>1230261</td>\n",
       "      <td>35</td>\n",
       "      <td>C1</td>\n",
       "      <td>78414</td>\n",
       "    </tr>\n",
       "    <tr>\n",
       "      <th>emp_title</th>\n",
       "      <td>1230261</td>\n",
       "      <td>355125</td>\n",
       "      <td>Teacher</td>\n",
       "      <td>21548</td>\n",
       "    </tr>\n",
       "    <tr>\n",
       "      <th>emp_length</th>\n",
       "      <td>1230261</td>\n",
       "      <td>11</td>\n",
       "      <td>10+ years</td>\n",
       "      <td>433422</td>\n",
       "    </tr>\n",
       "    <tr>\n",
       "      <th>home_ownership</th>\n",
       "      <td>1230261</td>\n",
       "      <td>6</td>\n",
       "      <td>MORTGAGE</td>\n",
       "      <td>612552</td>\n",
       "    </tr>\n",
       "    <tr>\n",
       "      <th>verification_status</th>\n",
       "      <td>1230261</td>\n",
       "      <td>3</td>\n",
       "      <td>Source Verified</td>\n",
       "      <td>497916</td>\n",
       "    </tr>\n",
       "    <tr>\n",
       "      <th>issue_d</th>\n",
       "      <td>1230261</td>\n",
       "      <td>82</td>\n",
       "      <td>Mar-2016</td>\n",
       "      <td>43049</td>\n",
       "    </tr>\n",
       "    <tr>\n",
       "      <th>purpose</th>\n",
       "      <td>1230261</td>\n",
       "      <td>14</td>\n",
       "      <td>debt_consolidation</td>\n",
       "      <td>721281</td>\n",
       "    </tr>\n",
       "    <tr>\n",
       "      <th>title</th>\n",
       "      <td>1230261</td>\n",
       "      <td>41394</td>\n",
       "      <td>Debt consolidation</td>\n",
       "      <td>638819</td>\n",
       "    </tr>\n",
       "    <tr>\n",
       "      <th>addr_state</th>\n",
       "      <td>1230261</td>\n",
       "      <td>51</td>\n",
       "      <td>CA</td>\n",
       "      <td>178891</td>\n",
       "    </tr>\n",
       "    <tr>\n",
       "      <th>earliest_cr_line</th>\n",
       "      <td>1230261</td>\n",
       "      <td>723</td>\n",
       "      <td>Aug-2001</td>\n",
       "      <td>8788</td>\n",
       "    </tr>\n",
       "    <tr>\n",
       "      <th>initial_list_status</th>\n",
       "      <td>1230261</td>\n",
       "      <td>2</td>\n",
       "      <td>w</td>\n",
       "      <td>747268</td>\n",
       "    </tr>\n",
       "    <tr>\n",
       "      <th>application_type</th>\n",
       "      <td>1230261</td>\n",
       "      <td>2</td>\n",
       "      <td>Individual</td>\n",
       "      <td>1205828</td>\n",
       "    </tr>\n",
       "  </tbody>\n",
       "</table>\n",
       "</div>"
      ],
      "text/plain": [
       "                       count  unique                 top     freq\n",
       "term                 1230261       2           36 months   921724\n",
       "grade                1230261       7                   B   356320\n",
       "sub_grade            1230261      35                  C1    78414\n",
       "emp_title            1230261  355125             Teacher    21548\n",
       "emp_length           1230261      11           10+ years   433422\n",
       "home_ownership       1230261       6            MORTGAGE   612552\n",
       "verification_status  1230261       3     Source Verified   497916\n",
       "issue_d              1230261      82            Mar-2016    43049\n",
       "purpose              1230261      14  debt_consolidation   721281\n",
       "title                1230261   41394  Debt consolidation   638819\n",
       "addr_state           1230261      51                  CA   178891\n",
       "earliest_cr_line     1230261     723            Aug-2001     8788\n",
       "initial_list_status  1230261       2                   w   747268\n",
       "application_type     1230261       2          Individual  1205828"
      ]
     },
     "execution_count": 17,
     "metadata": {},
     "output_type": "execute_result"
    }
   ],
   "source": [
    "# describe categorical data\n",
    "df.describe( include= [\"object\"]).transpose()"
   ]
  },
  {
   "cell_type": "markdown",
   "metadata": {},
   "source": [
    "In **term** feature we can reduce \"month\" from obserbations. **purpose** and **title** have the same values in column \"top\" so may contain similar information (duplicates). Also I will look at the differences in **grade** and **sub_grade**. **emp_title** and **title** has lot of unique values.\n",
    "\n",
    "#### 'Term' feature"
   ]
  },
  {
   "cell_type": "code",
   "execution_count": 18,
   "metadata": {},
   "outputs": [
    {
     "data": {
      "text/plain": [
       "array([' 36 months', ' 60 months'], dtype=object)"
      ]
     },
     "execution_count": 18,
     "metadata": {},
     "output_type": "execute_result"
    }
   ],
   "source": [
    "# let see unique values\n",
    "df.term.unique()"
   ]
  },
  {
   "cell_type": "code",
   "execution_count": 19,
   "metadata": {},
   "outputs": [
    {
     "data": {
      "text/plain": [
       "<AxesSubplot:xlabel='term', ylabel='count'>"
      ]
     },
     "execution_count": 19,
     "metadata": {},
     "output_type": "execute_result"
    },
    {
     "data": {
      "image/png": "[encoded data removed]",
      "text/plain": [
       "<Figure size 432x288 with 1 Axes>"
      ]
     },
     "metadata": {
      "needs_background": "light"
     },
     "output_type": "display_data"
    }
   ],
   "source": [
    "sns.countplot(x=df['term'], data=df)"
   ]
  },
  {
   "cell_type": "code",
   "execution_count": 20,
   "metadata": {},
   "outputs": [],
   "source": [
    "# remove 'months' from obserbations\n",
    "replace_term = {' 60 months': 60, ' 36 months': 36}\n",
    "df['term'] = df['term'].replace(replace_term)\n",
    "df = df.rename(columns={'term':'term_in_months'})"
   ]
  },
  {
   "cell_type": "code",
   "execution_count": 21,
   "metadata": {},
   "outputs": [
    {
     "data": {
      "text/plain": [
       "array([36, 60], dtype=int64)"
      ]
     },
     "execution_count": 21,
     "metadata": {},
     "output_type": "execute_result"
    }
   ],
   "source": [
    "# check the result\n",
    "df.term_in_months.unique()"
   ]
  },
  {
   "cell_type": "markdown",
   "metadata": {},
   "source": [
    "#### Look at \"grade\" and \"sub_grade\" features"
   ]
  },
  {
   "cell_type": "code",
   "execution_count": 22,
   "metadata": {},
   "outputs": [
    {
     "name": "stdout",
     "output_type": "stream",
     "text": [
      "Grade: ['C' 'F' 'B' 'A' 'E' 'D' 'G']\n",
      "Sub_grade: ['C4' 'C1' 'F1' 'C3' 'B2' 'B1' 'A2' 'B5' 'E2' 'A4' 'E3' 'C2' 'C5' 'A1'\n",
      " 'D4' 'B4' 'D1' 'B3' 'D3' 'D5' 'A5' 'F2' 'E4' 'D2' 'E1' 'F5' 'E5' 'A3'\n",
      " 'G2' 'F3' 'G3' 'G4' 'F4' 'G5' 'G1']\n"
     ]
    }
   ],
   "source": [
    "# unique values \n",
    "print('Grade:', df['grade'].unique())\n",
    "print('Sub_grade:', df['sub_grade'].unique())"
   ]
  },
  {
   "cell_type": "code",
   "execution_count": 23,
   "metadata": {},
   "outputs": [
    {
     "name": "stdout",
     "output_type": "stream",
     "text": [
      "Grade:\n",
      " B    356320\n",
      "C    354488\n",
      "A    209418\n",
      "D    185490\n",
      "E     86594\n",
      "F     29475\n",
      "G      8476\n",
      "Name: grade, dtype: int64\n",
      "Sub_grade:\n",
      " C1    78414\n",
      "B4    75713\n",
      "B5    74962\n",
      "B3    73619\n",
      "C2    72907\n",
      "C4    69834\n",
      "C3    69787\n",
      "B2    67132\n",
      "B1    64894\n",
      "C5    63546\n",
      "A5    57427\n",
      "D1    47531\n",
      "A4    45713\n",
      "D2    41114\n",
      "A1    39491\n",
      "D3    36173\n",
      "A3    33694\n",
      "A2    33093\n",
      "D4    32875\n",
      "D5    27797\n",
      "E1    21603\n",
      "E2    19673\n",
      "E3    17057\n",
      "E4    14643\n",
      "E5    13618\n",
      "F1     9138\n",
      "F2     6557\n",
      "F3     5615\n",
      "F4     4467\n",
      "F5     3698\n",
      "G1     2755\n",
      "G2     1967\n",
      "G3     1507\n",
      "G4     1199\n",
      "G5     1048\n",
      "Name: sub_grade, dtype: int64\n"
     ]
    }
   ],
   "source": [
    "# count observation in each group\n",
    "print('Grade:\\n', df['grade'].value_counts())\n",
    "print('Sub_grade:\\n',df['sub_grade'].value_counts())"
   ]
  },
  {
   "cell_type": "markdown",
   "metadata": {},
   "source": [
    "Let's see visualization grouping these features by loan_status."
   ]
  },
  {
   "cell_type": "code",
   "execution_count": 24,
   "metadata": {},
   "outputs": [
    {
     "data": {
      "text/plain": [
       "<AxesSubplot:xlabel='grade', ylabel='count'>"
      ]
     },
     "execution_count": 24,
     "metadata": {},
     "output_type": "execute_result"
    },
    {
     "data": {
      "image/png": "[encoded data removed]",
      "text/plain": [
       "<Figure size 864x288 with 1 Axes>"
      ]
     },
     "metadata": {
      "needs_background": "light"
     },
     "output_type": "display_data"
    }
   ],
   "source": [
    "plt.figure(figsize=(12,4))\n",
    "grade = sorted(df['grade'].unique().tolist())\n",
    "sns.countplot(x='grade', data=df, hue='loan_status', order=grade)"
   ]
  },
  {
   "cell_type": "code",
   "execution_count": 25,
   "metadata": {},
   "outputs": [
    {
     "data": {
      "text/plain": [
       "<AxesSubplot:xlabel='sub_grade', ylabel='count'>"
      ]
     },
     "execution_count": 25,
     "metadata": {},
     "output_type": "execute_result"
    },
    {
     "data": {
      "image/png": "[encoded data removed]",
      "text/plain": [
       "<Figure size 864x288 with 1 Axes>"
      ]
     },
     "metadata": {
      "needs_background": "light"
     },
     "output_type": "display_data"
    }
   ],
   "source": [
    "plt.figure(figsize=(12,4))\n",
    "sub_grade = sorted(df['sub_grade'].unique().tolist())\n",
    "sns.countplot(x='sub_grade', data=df, hue='loan_status', order=sub_grade)"
   ]
  },
  {
   "cell_type": "markdown",
   "metadata": {},
   "source": [
    "Grade is a part of sub_grade, it's duplicated information so let's just drop the grade feature."
   ]
  },
  {
   "cell_type": "code",
   "execution_count": 26,
   "metadata": {},
   "outputs": [],
   "source": [
    "df = df.drop(columns=['grade'])"
   ]
  },
  {
   "cell_type": "markdown",
   "metadata": {},
   "source": [
    "#### Look at \"title\" and \"purpose\""
   ]
  },
  {
   "cell_type": "code",
   "execution_count": 27,
   "metadata": {},
   "outputs": [
    {
     "data": {
      "text/html": [
       "<div>\n",
       "<style scoped>\n",
       "    .dataframe tbody tr th:only-of-type {\n",
       "        vertical-align: middle;\n",
       "    }\n",
       "\n",
       "    .dataframe tbody tr th {\n",
       "        vertical-align: top;\n",
       "    }\n",
       "\n",
       "    .dataframe thead th {\n",
       "        text-align: right;\n",
       "    }\n",
       "</style>\n",
       "<table border=\"1\" class=\"dataframe\">\n",
       "  <thead>\n",
       "    <tr style=\"text-align: right;\">\n",
       "      <th></th>\n",
       "      <th>title</th>\n",
       "      <th>purpose</th>\n",
       "    </tr>\n",
       "  </thead>\n",
       "  <tbody>\n",
       "    <tr>\n",
       "      <th>0</th>\n",
       "      <td>Debt consolidation</td>\n",
       "      <td>debt_consolidation</td>\n",
       "    </tr>\n",
       "    <tr>\n",
       "      <th>1</th>\n",
       "      <td>Business</td>\n",
       "      <td>small_business</td>\n",
       "    </tr>\n",
       "    <tr>\n",
       "      <th>4</th>\n",
       "      <td>Major purchase</td>\n",
       "      <td>major_purchase</td>\n",
       "    </tr>\n",
       "    <tr>\n",
       "      <th>5</th>\n",
       "      <td>Debt consolidation</td>\n",
       "      <td>debt_consolidation</td>\n",
       "    </tr>\n",
       "    <tr>\n",
       "      <th>6</th>\n",
       "      <td>Debt consolidation</td>\n",
       "      <td>debt_consolidation</td>\n",
       "    </tr>\n",
       "    <tr>\n",
       "      <th>7</th>\n",
       "      <td>Major purchase</td>\n",
       "      <td>major_purchase</td>\n",
       "    </tr>\n",
       "    <tr>\n",
       "      <th>8</th>\n",
       "      <td>Credit card refinancing</td>\n",
       "      <td>credit_card</td>\n",
       "    </tr>\n",
       "    <tr>\n",
       "      <th>9</th>\n",
       "      <td>Credit card refinancing</td>\n",
       "      <td>credit_card</td>\n",
       "    </tr>\n",
       "    <tr>\n",
       "      <th>13</th>\n",
       "      <td>Debt consolidation</td>\n",
       "      <td>debt_consolidation</td>\n",
       "    </tr>\n",
       "    <tr>\n",
       "      <th>14</th>\n",
       "      <td>Debt consolidation</td>\n",
       "      <td>debt_consolidation</td>\n",
       "    </tr>\n",
       "    <tr>\n",
       "      <th>15</th>\n",
       "      <td>Credit card refinancing</td>\n",
       "      <td>credit_card</td>\n",
       "    </tr>\n",
       "    <tr>\n",
       "      <th>16</th>\n",
       "      <td>Debt consolidation</td>\n",
       "      <td>debt_consolidation</td>\n",
       "    </tr>\n",
       "    <tr>\n",
       "      <th>17</th>\n",
       "      <td>Debt consolidation</td>\n",
       "      <td>debt_consolidation</td>\n",
       "    </tr>\n",
       "    <tr>\n",
       "      <th>19</th>\n",
       "      <td>Debt consolidation</td>\n",
       "      <td>debt_consolidation</td>\n",
       "    </tr>\n",
       "    <tr>\n",
       "      <th>20</th>\n",
       "      <td>Debt consolidation</td>\n",
       "      <td>debt_consolidation</td>\n",
       "    </tr>\n",
       "  </tbody>\n",
       "</table>\n",
       "</div>"
      ],
      "text/plain": [
       "                      title             purpose\n",
       "0        Debt consolidation  debt_consolidation\n",
       "1                  Business      small_business\n",
       "4            Major purchase      major_purchase\n",
       "5        Debt consolidation  debt_consolidation\n",
       "6        Debt consolidation  debt_consolidation\n",
       "7            Major purchase      major_purchase\n",
       "8   Credit card refinancing         credit_card\n",
       "9   Credit card refinancing         credit_card\n",
       "13       Debt consolidation  debt_consolidation\n",
       "14       Debt consolidation  debt_consolidation\n",
       "15  Credit card refinancing         credit_card\n",
       "16       Debt consolidation  debt_consolidation\n",
       "17       Debt consolidation  debt_consolidation\n",
       "19       Debt consolidation  debt_consolidation\n",
       "20       Debt consolidation  debt_consolidation"
      ]
     },
     "execution_count": 27,
     "metadata": {},
     "output_type": "execute_result"
    }
   ],
   "source": [
    "df[['title','purpose']].head(15)"
   ]
  },
  {
   "cell_type": "markdown",
   "metadata": {},
   "source": [
    "'Title' and 'purpose' are very similar, 'title' has some NaN values and a lot of unique variables, so I drop this feature."
   ]
  },
  {
   "cell_type": "code",
   "execution_count": 28,
   "metadata": {},
   "outputs": [],
   "source": [
    "df = df.drop(columns=['title'])"
   ]
  },
  {
   "cell_type": "markdown",
   "metadata": {},
   "source": [
    "#### \"emp_length\" feature"
   ]
  },
  {
   "cell_type": "code",
   "execution_count": 29,
   "metadata": {},
   "outputs": [
    {
     "data": {
      "text/plain": [
       "10+ years    433422\n",
       "2 years      118108\n",
       "< 1 year     104352\n",
       "3 years      103938\n",
       "1 year        85175\n",
       "5 years       80830\n",
       "4 years       77411\n",
       "6 years       60492\n",
       "8 years       59169\n",
       "7 years       57745\n",
       "9 years       49619\n",
       "Name: emp_length, dtype: int64"
      ]
     },
     "execution_count": 29,
     "metadata": {},
     "output_type": "execute_result"
    }
   ],
   "source": [
    "# unique value and counts\n",
    "df['emp_length'].value_counts()"
   ]
  },
  {
   "cell_type": "code",
   "execution_count": 30,
   "metadata": {},
   "outputs": [],
   "source": [
    "df['emp_length'] = df['emp_length'].replace(\"< 1 year\", \"1 year\")"
   ]
  },
  {
   "cell_type": "code",
   "execution_count": 31,
   "metadata": {},
   "outputs": [
    {
     "data": {
      "text/plain": [
       "<AxesSubplot:xlabel='emp_length', ylabel='count'>"
      ]
     },
     "execution_count": 31,
     "metadata": {},
     "output_type": "execute_result"
    },
    {
     "data": {
      "image/png": "[encoded data removed]",
      "text/plain": [
       "<Figure size 864x288 with 1 Axes>"
      ]
     },
     "metadata": {
      "needs_background": "light"
     },
     "output_type": "display_data"
    }
   ],
   "source": [
    "plt.figure(figsize=(12,4))\n",
    "emp_length_order = [ '1 year', '2 years', '3 years', '4 years', '5 years', '6 years', '7 years', '8 years', '9 years', '10+ years']\n",
    "sns.countplot(x='emp_length',\n",
    "              data=df,\n",
    "              hue='loan_status',\n",
    "              order=emp_length_order)"
   ]
  },
  {
   "cell_type": "markdown",
   "metadata": {},
   "source": [
    "1 (charge off and others defaulted observations) are very similar in \"emp_length\" so I drop this feature."
   ]
  },
  {
   "cell_type": "code",
   "execution_count": 32,
   "metadata": {},
   "outputs": [],
   "source": [
    "df = df.drop(columns=['emp_length'])"
   ]
  },
  {
   "cell_type": "markdown",
   "metadata": {},
   "source": [
    "#### \"home_ownership\" feature"
   ]
  },
  {
   "cell_type": "code",
   "execution_count": 33,
   "metadata": {},
   "outputs": [
    {
     "data": {
      "text/plain": [
       "MORTGAGE    612552\n",
       "RENT        490403\n",
       "OWN         126963\n",
       "ANY            259\n",
       "NONE            43\n",
       "OTHER           41\n",
       "Name: home_ownership, dtype: int64"
      ]
     },
     "execution_count": 33,
     "metadata": {},
     "output_type": "execute_result"
    }
   ],
   "source": [
    "# look at unique values and counts\n",
    "df['home_ownership'].value_counts()"
   ]
  },
  {
   "cell_type": "markdown",
   "metadata": {},
   "source": [
    "Add 'NONE' to 'ANY' group."
   ]
  },
  {
   "cell_type": "code",
   "execution_count": 34,
   "metadata": {},
   "outputs": [],
   "source": [
    "df['home_ownership'] = df['home_ownership'].replace([\"ANY\",\"NONE\"], \"OTHER\")"
   ]
  },
  {
   "cell_type": "code",
   "execution_count": 35,
   "metadata": {},
   "outputs": [
    {
     "data": {
      "text/plain": [
       "<AxesSubplot:xlabel='home_ownership', ylabel='count'>"
      ]
     },
     "execution_count": 35,
     "metadata": {},
     "output_type": "execute_result"
    },
    {
     "data": {
      "image/png": "[encoded data removed]",
      "text/plain": [
       "<Figure size 432x288 with 1 Axes>"
      ]
     },
     "metadata": {
      "needs_background": "light"
     },
     "output_type": "display_data"
    }
   ],
   "source": [
    "# visualize home_ownership group by 'loan_status'\n",
    "sns.countplot(x='home_ownership', data=df, hue='loan_status')"
   ]
  },
  {
   "cell_type": "markdown",
   "metadata": {},
   "source": [
    "#### visualize other categorical features"
   ]
  },
  {
   "cell_type": "code",
   "execution_count": 36,
   "metadata": {},
   "outputs": [
    {
     "data": {
      "image/png": "[encoded data removed]",
      "text/plain": [
       "<Figure size 1440x1800 with 4 Axes>"
      ]
     },
     "metadata": {
      "needs_background": "light"
     },
     "output_type": "display_data"
    }
   ],
   "source": [
    "plt.figure(figsize=(20, 25))\n",
    "\n",
    "plt.subplot(4, 2, 1)\n",
    "sns.countplot(x='initial_list_status', data=df, hue='loan_status')\n",
    "\n",
    "plt.subplot(4, 2, 2)\n",
    "sns.countplot(x='application_type', data=df, hue='loan_status')\n",
    "\n",
    "plt.subplot(4, 2, 3)\n",
    "sns.countplot(x='verification_status', data=df, hue='loan_status')\n",
    "\n",
    "plt.subplot(4, 2, 4)\n",
    "g = sns.countplot(x='purpose', data=df, hue='loan_status')\n",
    "g.set_xticklabels(g.get_xticklabels(), rotation=90);"
   ]
  },
  {
   "cell_type": "markdown",
   "metadata": {},
   "source": [
    "Drop features that have to many unique values."
   ]
  },
  {
   "cell_type": "code",
   "execution_count": 37,
   "metadata": {},
   "outputs": [],
   "source": [
    "df = df.drop(columns=['emp_title','issue_d','earliest_cr_line', 'addr_state'])"
   ]
  },
  {
   "cell_type": "markdown",
   "metadata": {},
   "source": [
    "Let take a look at basic summary of numeric variables."
   ]
  },
  {
   "cell_type": "code",
   "execution_count": 38,
   "metadata": {},
   "outputs": [
    {
     "data": {
      "text/html": [
       "<div>\n",
       "<style scoped>\n",
       "    .dataframe tbody tr th:only-of-type {\n",
       "        vertical-align: middle;\n",
       "    }\n",
       "\n",
       "    .dataframe tbody tr th {\n",
       "        vertical-align: top;\n",
       "    }\n",
       "\n",
       "    .dataframe thead th {\n",
       "        text-align: right;\n",
       "    }\n",
       "</style>\n",
       "<table border=\"1\" class=\"dataframe\">\n",
       "  <thead>\n",
       "    <tr style=\"text-align: right;\">\n",
       "      <th></th>\n",
       "      <th>count</th>\n",
       "      <th>mean</th>\n",
       "      <th>std</th>\n",
       "      <th>min</th>\n",
       "      <th>25%</th>\n",
       "      <th>50%</th>\n",
       "      <th>75%</th>\n",
       "      <th>max</th>\n",
       "    </tr>\n",
       "  </thead>\n",
       "  <tbody>\n",
       "    <tr>\n",
       "      <th>loan_amnt</th>\n",
       "      <td>1230261.0</td>\n",
       "      <td>14771.728763</td>\n",
       "      <td>8798.641478</td>\n",
       "      <td>1000.00</td>\n",
       "      <td>8000.00</td>\n",
       "      <td>12600.00</td>\n",
       "      <td>20000.00</td>\n",
       "      <td>40000.00</td>\n",
       "    </tr>\n",
       "    <tr>\n",
       "      <th>term_in_months</th>\n",
       "      <td>1230261.0</td>\n",
       "      <td>42.018957</td>\n",
       "      <td>10.403231</td>\n",
       "      <td>36.00</td>\n",
       "      <td>36.00</td>\n",
       "      <td>36.00</td>\n",
       "      <td>60.00</td>\n",
       "      <td>60.00</td>\n",
       "    </tr>\n",
       "    <tr>\n",
       "      <th>int_rate</th>\n",
       "      <td>1230261.0</td>\n",
       "      <td>13.327600</td>\n",
       "      <td>4.821112</td>\n",
       "      <td>5.31</td>\n",
       "      <td>9.75</td>\n",
       "      <td>12.79</td>\n",
       "      <td>16.02</td>\n",
       "      <td>30.99</td>\n",
       "    </tr>\n",
       "    <tr>\n",
       "      <th>installment</th>\n",
       "      <td>1230261.0</td>\n",
       "      <td>448.085806</td>\n",
       "      <td>263.835206</td>\n",
       "      <td>4.93</td>\n",
       "      <td>256.30</td>\n",
       "      <td>384.06</td>\n",
       "      <td>594.62</td>\n",
       "      <td>1719.83</td>\n",
       "    </tr>\n",
       "    <tr>\n",
       "      <th>annual_inc</th>\n",
       "      <td>1230261.0</td>\n",
       "      <td>78253.453814</td>\n",
       "      <td>71931.155855</td>\n",
       "      <td>32.00</td>\n",
       "      <td>48000.00</td>\n",
       "      <td>65500.00</td>\n",
       "      <td>93000.00</td>\n",
       "      <td>10999200.00</td>\n",
       "    </tr>\n",
       "    <tr>\n",
       "      <th>loan_status</th>\n",
       "      <td>1230261.0</td>\n",
       "      <td>0.216382</td>\n",
       "      <td>0.411778</td>\n",
       "      <td>0.00</td>\n",
       "      <td>0.00</td>\n",
       "      <td>0.00</td>\n",
       "      <td>0.00</td>\n",
       "      <td>1.00</td>\n",
       "    </tr>\n",
       "    <tr>\n",
       "      <th>dti</th>\n",
       "      <td>1230261.0</td>\n",
       "      <td>18.342280</td>\n",
       "      <td>9.626950</td>\n",
       "      <td>-1.00</td>\n",
       "      <td>11.93</td>\n",
       "      <td>17.72</td>\n",
       "      <td>24.18</td>\n",
       "      <td>999.00</td>\n",
       "    </tr>\n",
       "    <tr>\n",
       "      <th>open_acc</th>\n",
       "      <td>1230261.0</td>\n",
       "      <td>11.773029</td>\n",
       "      <td>5.523047</td>\n",
       "      <td>1.00</td>\n",
       "      <td>8.00</td>\n",
       "      <td>11.00</td>\n",
       "      <td>15.00</td>\n",
       "      <td>90.00</td>\n",
       "    </tr>\n",
       "    <tr>\n",
       "      <th>pub_rec</th>\n",
       "      <td>1230261.0</td>\n",
       "      <td>0.214545</td>\n",
       "      <td>0.606629</td>\n",
       "      <td>0.00</td>\n",
       "      <td>0.00</td>\n",
       "      <td>0.00</td>\n",
       "      <td>0.00</td>\n",
       "      <td>86.00</td>\n",
       "    </tr>\n",
       "    <tr>\n",
       "      <th>revol_bal</th>\n",
       "      <td>1230261.0</td>\n",
       "      <td>16517.551622</td>\n",
       "      <td>22599.936401</td>\n",
       "      <td>0.00</td>\n",
       "      <td>6101.00</td>\n",
       "      <td>11344.00</td>\n",
       "      <td>20056.00</td>\n",
       "      <td>2904836.00</td>\n",
       "    </tr>\n",
       "    <tr>\n",
       "      <th>revol_util</th>\n",
       "      <td>1230261.0</td>\n",
       "      <td>52.088740</td>\n",
       "      <td>24.358916</td>\n",
       "      <td>0.00</td>\n",
       "      <td>33.90</td>\n",
       "      <td>52.50</td>\n",
       "      <td>70.90</td>\n",
       "      <td>892.30</td>\n",
       "    </tr>\n",
       "    <tr>\n",
       "      <th>total_acc</th>\n",
       "      <td>1230261.0</td>\n",
       "      <td>25.155507</td>\n",
       "      <td>12.037665</td>\n",
       "      <td>2.00</td>\n",
       "      <td>16.00</td>\n",
       "      <td>23.00</td>\n",
       "      <td>32.00</td>\n",
       "      <td>176.00</td>\n",
       "    </tr>\n",
       "    <tr>\n",
       "      <th>mort_acc</th>\n",
       "      <td>1230261.0</td>\n",
       "      <td>1.653270</td>\n",
       "      <td>1.988944</td>\n",
       "      <td>0.00</td>\n",
       "      <td>0.00</td>\n",
       "      <td>1.00</td>\n",
       "      <td>3.00</td>\n",
       "      <td>51.00</td>\n",
       "    </tr>\n",
       "    <tr>\n",
       "      <th>pub_rec_bankruptcies</th>\n",
       "      <td>1230261.0</td>\n",
       "      <td>0.132854</td>\n",
       "      <td>0.376673</td>\n",
       "      <td>0.00</td>\n",
       "      <td>0.00</td>\n",
       "      <td>0.00</td>\n",
       "      <td>0.00</td>\n",
       "      <td>12.00</td>\n",
       "    </tr>\n",
       "  </tbody>\n",
       "</table>\n",
       "</div>"
      ],
      "text/plain": [
       "                          count          mean           std      min  \\\n",
       "loan_amnt             1230261.0  14771.728763   8798.641478  1000.00   \n",
       "term_in_months        1230261.0     42.018957     10.403231    36.00   \n",
       "int_rate              1230261.0     13.327600      4.821112     5.31   \n",
       "installment           1230261.0    448.085806    263.835206     4.93   \n",
       "annual_inc            1230261.0  78253.453814  71931.155855    32.00   \n",
       "loan_status           1230261.0      0.216382      0.411778     0.00   \n",
       "dti                   1230261.0     18.342280      9.626950    -1.00   \n",
       "open_acc              1230261.0     11.773029      5.523047     1.00   \n",
       "pub_rec               1230261.0      0.214545      0.606629     0.00   \n",
       "revol_bal             1230261.0  16517.551622  22599.936401     0.00   \n",
       "revol_util            1230261.0     52.088740     24.358916     0.00   \n",
       "total_acc             1230261.0     25.155507     12.037665     2.00   \n",
       "mort_acc              1230261.0      1.653270      1.988944     0.00   \n",
       "pub_rec_bankruptcies  1230261.0      0.132854      0.376673     0.00   \n",
       "\n",
       "                           25%       50%       75%          max  \n",
       "loan_amnt              8000.00  12600.00  20000.00     40000.00  \n",
       "term_in_months           36.00     36.00     60.00        60.00  \n",
       "int_rate                  9.75     12.79     16.02        30.99  \n",
       "installment             256.30    384.06    594.62      1719.83  \n",
       "annual_inc            48000.00  65500.00  93000.00  10999200.00  \n",
       "loan_status               0.00      0.00      0.00         1.00  \n",
       "dti                      11.93     17.72     24.18       999.00  \n",
       "open_acc                  8.00     11.00     15.00        90.00  \n",
       "pub_rec                   0.00      0.00      0.00        86.00  \n",
       "revol_bal              6101.00  11344.00  20056.00   2904836.00  \n",
       "revol_util               33.90     52.50     70.90       892.30  \n",
       "total_acc                16.00     23.00     32.00       176.00  \n",
       "mort_acc                  0.00      1.00      3.00        51.00  \n",
       "pub_rec_bankruptcies      0.00      0.00      0.00        12.00  "
      ]
     },
     "execution_count": 38,
     "metadata": {},
     "output_type": "execute_result"
    }
   ],
   "source": [
    "# describe numeric data\n",
    "df.describe().transpose()"
   ]
  },
  {
   "cell_type": "markdown",
   "metadata": {},
   "source": [
    "Look closser at loan_amnt."
   ]
  },
  {
   "cell_type": "code",
   "execution_count": 39,
   "metadata": {},
   "outputs": [
    {
     "data": {
      "text/plain": [
       "(array([ 25618.,  40002.,  45421., 107017.,  55394.,  77379., 137277.,\n",
       "         39594.,  88709.,  29682., 105106.,  50166.,  24763.,  44389.,\n",
       "         83052.,  26910.,  19488.,  39453.,  39608.,   8103.,  26842.,\n",
       "          6128.,  32145.,   9670.,   4547.,   3823.,  51615.,    335.,\n",
       "           465.,   7560.]),\n",
       " array([ 1000.,  2300.,  3600.,  4900.,  6200.,  7500.,  8800., 10100.,\n",
       "        11400., 12700., 14000., 15300., 16600., 17900., 19200., 20500.,\n",
       "        21800., 23100., 24400., 25700., 27000., 28300., 29600., 30900.,\n",
       "        32200., 33500., 34800., 36100., 37400., 38700., 40000.]),\n",
       " <BarContainer object of 30 artists>)"
      ]
     },
     "execution_count": 39,
     "metadata": {},
     "output_type": "execute_result"
    },
    {
     "data": {
      "image/png": "[encoded data removed]",
      "text/plain": [
       "<Figure size 432x288 with 1 Axes>"
      ]
     },
     "metadata": {
      "needs_background": "light"
     },
     "output_type": "display_data"
    }
   ],
   "source": [
    "plt.hist(df['loan_amnt'],bins=30)"
   ]
  },
  {
   "cell_type": "code",
   "execution_count": 40,
   "metadata": {},
   "outputs": [
    {
     "data": {
      "text/plain": [
       "array([<AxesSubplot:title={'center':'0'}>,\n",
       "       <AxesSubplot:title={'center':'1'}>], dtype=object)"
      ]
     },
     "execution_count": 40,
     "metadata": {},
     "output_type": "execute_result"
    },
    {
     "data": {
      "image/png": "[encoded data removed]",
      "text/plain": [
       "<Figure size 432x288 with 2 Axes>"
      ]
     },
     "metadata": {
      "needs_background": "light"
     },
     "output_type": "display_data"
    }
   ],
   "source": [
    "df['loan_amnt'].hist(by=df['loan_status'])"
   ]
  },
  {
   "cell_type": "markdown",
   "metadata": {},
   "source": [
    "Take a look closer at the features: pub_rec, mort_acc, pub_rec_bankruptcies, because min,25%,median,75% are 0."
   ]
  },
  {
   "cell_type": "code",
   "execution_count": 41,
   "metadata": {},
   "outputs": [
    {
     "data": {
      "image/png": "[encoded data removed]",
      "text/plain": [
       "<Figure size 1080x1440 with 3 Axes>"
      ]
     },
     "metadata": {
      "needs_background": "light"
     },
     "output_type": "display_data"
    }
   ],
   "source": [
    "plt.figure(figsize=(15, 20))\n",
    "\n",
    "plt.subplot(3, 2, 1)\n",
    "sns.countplot(x='pub_rec', data=df, hue='loan_status')\n",
    "\n",
    "plt.subplot(3, 2, 2)\n",
    "sns.countplot(x='mort_acc', data=df, hue='loan_status')\n",
    "\n",
    "plt.subplot(3, 2, 3)\n",
    "sns.countplot(x='pub_rec_bankruptcies', data=df, hue='loan_status')\n",
    "\n",
    "g.set_xticklabels(g.get_xticklabels(), rotation=90);"
   ]
  },
  {
   "cell_type": "markdown",
   "metadata": {},
   "source": [
    "Let's transform these features to bolean."
   ]
  },
  {
   "cell_type": "code",
   "execution_count": 42,
   "metadata": {},
   "outputs": [],
   "source": [
    "df['pub_rec'] = df['pub_rec'].apply(lambda x: 0 if x==0.0 else 1)\n",
    "df['mort_acc'] = df['mort_acc'].apply(lambda x: 0 if x==0.0 else 1)\n",
    "df['pub_rec_bankruptcies'] = df['pub_rec_bankruptcies'].apply(lambda x: 0 if x==0.0 else 1)"
   ]
  },
  {
   "cell_type": "markdown",
   "metadata": {},
   "source": [
    "#### Detect outliers in float values using 3sigma method"
   ]
  },
  {
   "cell_type": "code",
   "execution_count": 43,
   "metadata": {},
   "outputs": [],
   "source": [
    "for x in list(df.describe( include= [\"float\"]).columns):\n",
    "    q75,q25 = np.percentile(df.loc[:,x],[75,25])\n",
    "    intr_qr = q75-q25\n",
    "    m = np.mean(df.loc[:,x])\n",
    "    \n",
    "    max = q75+(1.5*intr_qr)\n",
    "    min = q25-(1.5*intr_qr)\n",
    " \n",
    "    df.loc[df[x] < min,x] = m\n",
    "    df.loc[df[x] > max,x] = m"
   ]
  },
  {
   "cell_type": "code",
   "execution_count": 44,
   "metadata": {},
   "outputs": [
    {
     "data": {
      "text/plain": [
       "Index(['loan_amnt', 'int_rate', 'installment', 'annual_inc', 'dti', 'open_acc',\n",
       "       'revol_bal', 'revol_util', 'total_acc'],\n",
       "      dtype='object')"
      ]
     },
     "execution_count": 44,
     "metadata": {},
     "output_type": "execute_result"
    }
   ],
   "source": [
    "df.describe( include= [\"float\"]).columns"
   ]
  },
  {
   "cell_type": "code",
   "execution_count": 45,
   "metadata": {},
   "outputs": [
    {
     "data": {
      "text/html": [
       "<div>\n",
       "<style scoped>\n",
       "    .dataframe tbody tr th:only-of-type {\n",
       "        vertical-align: middle;\n",
       "    }\n",
       "\n",
       "    .dataframe tbody tr th {\n",
       "        vertical-align: top;\n",
       "    }\n",
       "\n",
       "    .dataframe thead th {\n",
       "        text-align: right;\n",
       "    }\n",
       "</style>\n",
       "<table border=\"1\" class=\"dataframe\">\n",
       "  <thead>\n",
       "    <tr style=\"text-align: right;\">\n",
       "      <th></th>\n",
       "      <th>count</th>\n",
       "      <th>mean</th>\n",
       "      <th>std</th>\n",
       "      <th>min</th>\n",
       "      <th>25%</th>\n",
       "      <th>50%</th>\n",
       "      <th>75%</th>\n",
       "      <th>max</th>\n",
       "    </tr>\n",
       "  </thead>\n",
       "  <tbody>\n",
       "    <tr>\n",
       "      <th>loan_amnt</th>\n",
       "      <td>1230261.0</td>\n",
       "      <td>14613.517193</td>\n",
       "      <td>8567.897119</td>\n",
       "      <td>1000.00</td>\n",
       "      <td>8000.00</td>\n",
       "      <td>12600.00</td>\n",
       "      <td>20000.00</td>\n",
       "      <td>38000.00</td>\n",
       "    </tr>\n",
       "    <tr>\n",
       "      <th>term_in_months</th>\n",
       "      <td>1230261.0</td>\n",
       "      <td>42.018957</td>\n",
       "      <td>10.403231</td>\n",
       "      <td>36.00</td>\n",
       "      <td>36.00</td>\n",
       "      <td>36.00</td>\n",
       "      <td>60.00</td>\n",
       "      <td>60.00</td>\n",
       "    </tr>\n",
       "    <tr>\n",
       "      <th>int_rate</th>\n",
       "      <td>1230261.0</td>\n",
       "      <td>13.038486</td>\n",
       "      <td>4.353974</td>\n",
       "      <td>5.31</td>\n",
       "      <td>9.75</td>\n",
       "      <td>12.79</td>\n",
       "      <td>15.61</td>\n",
       "      <td>25.34</td>\n",
       "    </tr>\n",
       "    <tr>\n",
       "      <th>installment</th>\n",
       "      <td>1230261.0</td>\n",
       "      <td>426.298489</td>\n",
       "      <td>228.848173</td>\n",
       "      <td>4.93</td>\n",
       "      <td>256.30</td>\n",
       "      <td>384.06</td>\n",
       "      <td>561.29</td>\n",
       "      <td>1102.09</td>\n",
       "    </tr>\n",
       "    <tr>\n",
       "      <th>annual_inc</th>\n",
       "      <td>1230261.0</td>\n",
       "      <td>70395.332105</td>\n",
       "      <td>29999.356224</td>\n",
       "      <td>32.00</td>\n",
       "      <td>48000.00</td>\n",
       "      <td>65500.00</td>\n",
       "      <td>86000.00</td>\n",
       "      <td>160500.00</td>\n",
       "    </tr>\n",
       "    <tr>\n",
       "      <th>loan_status</th>\n",
       "      <td>1230261.0</td>\n",
       "      <td>0.216382</td>\n",
       "      <td>0.411778</td>\n",
       "      <td>0.00</td>\n",
       "      <td>0.00</td>\n",
       "      <td>0.00</td>\n",
       "      <td>0.00</td>\n",
       "      <td>1.00</td>\n",
       "    </tr>\n",
       "    <tr>\n",
       "      <th>dti</th>\n",
       "      <td>1230261.0</td>\n",
       "      <td>18.168489</td>\n",
       "      <td>8.333977</td>\n",
       "      <td>-1.00</td>\n",
       "      <td>11.93</td>\n",
       "      <td>17.72</td>\n",
       "      <td>24.07</td>\n",
       "      <td>42.55</td>\n",
       "    </tr>\n",
       "    <tr>\n",
       "      <th>open_acc</th>\n",
       "      <td>1230261.0</td>\n",
       "      <td>11.345547</td>\n",
       "      <td>4.676176</td>\n",
       "      <td>1.00</td>\n",
       "      <td>8.00</td>\n",
       "      <td>11.00</td>\n",
       "      <td>14.00</td>\n",
       "      <td>25.00</td>\n",
       "    </tr>\n",
       "    <tr>\n",
       "      <th>pub_rec</th>\n",
       "      <td>1230261.0</td>\n",
       "      <td>0.168208</td>\n",
       "      <td>0.374051</td>\n",
       "      <td>0.00</td>\n",
       "      <td>0.00</td>\n",
       "      <td>0.00</td>\n",
       "      <td>0.00</td>\n",
       "      <td>1.00</td>\n",
       "    </tr>\n",
       "    <tr>\n",
       "      <th>revol_bal</th>\n",
       "      <td>1230261.0</td>\n",
       "      <td>13082.983903</td>\n",
       "      <td>8943.430250</td>\n",
       "      <td>0.00</td>\n",
       "      <td>6101.00</td>\n",
       "      <td>11344.00</td>\n",
       "      <td>17310.00</td>\n",
       "      <td>40988.00</td>\n",
       "    </tr>\n",
       "    <tr>\n",
       "      <th>revol_util</th>\n",
       "      <td>1230261.0</td>\n",
       "      <td>52.082814</td>\n",
       "      <td>24.336114</td>\n",
       "      <td>0.00</td>\n",
       "      <td>33.90</td>\n",
       "      <td>52.50</td>\n",
       "      <td>70.90</td>\n",
       "      <td>126.40</td>\n",
       "    </tr>\n",
       "    <tr>\n",
       "      <th>total_acc</th>\n",
       "      <td>1230261.0</td>\n",
       "      <td>24.466168</td>\n",
       "      <td>10.764164</td>\n",
       "      <td>2.00</td>\n",
       "      <td>16.00</td>\n",
       "      <td>23.00</td>\n",
       "      <td>31.00</td>\n",
       "      <td>56.00</td>\n",
       "    </tr>\n",
       "    <tr>\n",
       "      <th>mort_acc</th>\n",
       "      <td>1230261.0</td>\n",
       "      <td>0.593814</td>\n",
       "      <td>0.491120</td>\n",
       "      <td>0.00</td>\n",
       "      <td>0.00</td>\n",
       "      <td>1.00</td>\n",
       "      <td>1.00</td>\n",
       "      <td>1.00</td>\n",
       "    </tr>\n",
       "    <tr>\n",
       "      <th>pub_rec_bankruptcies</th>\n",
       "      <td>1230261.0</td>\n",
       "      <td>0.123040</td>\n",
       "      <td>0.328483</td>\n",
       "      <td>0.00</td>\n",
       "      <td>0.00</td>\n",
       "      <td>0.00</td>\n",
       "      <td>0.00</td>\n",
       "      <td>1.00</td>\n",
       "    </tr>\n",
       "  </tbody>\n",
       "</table>\n",
       "</div>"
      ],
      "text/plain": [
       "                          count          mean           std      min  \\\n",
       "loan_amnt             1230261.0  14613.517193   8567.897119  1000.00   \n",
       "term_in_months        1230261.0     42.018957     10.403231    36.00   \n",
       "int_rate              1230261.0     13.038486      4.353974     5.31   \n",
       "installment           1230261.0    426.298489    228.848173     4.93   \n",
       "annual_inc            1230261.0  70395.332105  29999.356224    32.00   \n",
       "loan_status           1230261.0      0.216382      0.411778     0.00   \n",
       "dti                   1230261.0     18.168489      8.333977    -1.00   \n",
       "open_acc              1230261.0     11.345547      4.676176     1.00   \n",
       "pub_rec               1230261.0      0.168208      0.374051     0.00   \n",
       "revol_bal             1230261.0  13082.983903   8943.430250     0.00   \n",
       "revol_util            1230261.0     52.082814     24.336114     0.00   \n",
       "total_acc             1230261.0     24.466168     10.764164     2.00   \n",
       "mort_acc              1230261.0      0.593814      0.491120     0.00   \n",
       "pub_rec_bankruptcies  1230261.0      0.123040      0.328483     0.00   \n",
       "\n",
       "                           25%       50%       75%        max  \n",
       "loan_amnt              8000.00  12600.00  20000.00   38000.00  \n",
       "term_in_months           36.00     36.00     60.00      60.00  \n",
       "int_rate                  9.75     12.79     15.61      25.34  \n",
       "installment             256.30    384.06    561.29    1102.09  \n",
       "annual_inc            48000.00  65500.00  86000.00  160500.00  \n",
       "loan_status               0.00      0.00      0.00       1.00  \n",
       "dti                      11.93     17.72     24.07      42.55  \n",
       "open_acc                  8.00     11.00     14.00      25.00  \n",
       "pub_rec                   0.00      0.00      0.00       1.00  \n",
       "revol_bal              6101.00  11344.00  17310.00   40988.00  \n",
       "revol_util               33.90     52.50     70.90     126.40  \n",
       "total_acc                16.00     23.00     31.00      56.00  \n",
       "mort_acc                  0.00      1.00      1.00       1.00  \n",
       "pub_rec_bankruptcies      0.00      0.00      0.00       1.00  "
      ]
     },
     "execution_count": 45,
     "metadata": {},
     "output_type": "execute_result"
    }
   ],
   "source": [
    "# check the result\n",
    "df.describe().transpose()"
   ]
  },
  {
   "cell_type": "markdown",
   "metadata": {},
   "source": [
    "#### Create dummy variables for categorical feature"
   ]
  },
  {
   "cell_type": "code",
   "execution_count": 46,
   "metadata": {},
   "outputs": [],
   "source": [
    "dummies = ['sub_grade', 'home_ownership', 'verification_status', 'purpose', 'initial_list_status', 'application_type']\n",
    "df = pd.get_dummies(df, columns=dummies, drop_first=True)"
   ]
  },
  {
   "cell_type": "markdown",
   "metadata": {},
   "source": [
    "### Save processed data"
   ]
  },
  {
   "cell_type": "code",
   "execution_count": 47,
   "metadata": {},
   "outputs": [],
   "source": [
    "df.to_csv('C:\\\\Users\\\\Kotula\\\\Desktop\\\\QU\\\\Processed_data\\\\processed_data.csv', index=False)"
   ]
  }
 ],
 "metadata": {
  "kernelspec": {
   "display_name": "Python 3",
   "language": "python",
   "name": "python3"
  },
  "language_info": {
   "codemirror_mode": {
    "name": "ipython",
    "version": 3
   },
   "file_extension": ".py",
   "mimetype": "text/x-python",
   "name": "python",
   "nbconvert_exporter": "python",
   "pygments_lexer": "ipython3",
   "version": "3.8.3"
  }
 },
 "nbformat": 4,
 "nbformat_minor": 4
}
